{
  "nbformat": 4,
  "nbformat_minor": 0,
  "metadata": {
    "kernelspec": {
      "display_name": "Python 3",
      "language": "python",
      "name": "python3"
    },
    "language_info": {
      "codemirror_mode": {
        "name": "ipython",
        "version": 3
      },
      "file_extension": ".py",
      "mimetype": "text/x-python",
      "name": "python",
      "nbconvert_exporter": "python",
      "pygments_lexer": "ipython3",
      "version": "3.7.3"
    },
    "colab": {
      "name": "bilstm + crf.ipynb",
      "provenance": []
    }
  },
  "cells": [
    {
      "cell_type": "code",
      "metadata": {
        "id": "WbNOmXYuOLX_",
        "colab_type": "code",
        "colab": {}
      },
      "source": [
        "import pandas as pd\n",
        "import numpy as np\n",
        "\n",
        "data = pd.read_csv(\"C:/Users/Dell/Documents/ncbi_train_v2.csv\", encoding=\"latin1\")\n"
      ],
      "execution_count": null,
      "outputs": []
    },
    {
      "cell_type": "code",
      "metadata": {
        "id": "OjdUOLutOLYH",
        "colab_type": "code",
        "colab": {}
      },
      "source": [
        "data = data.fillna(method=\"ffill\")\n"
      ],
      "execution_count": null,
      "outputs": []
    },
    {
      "cell_type": "code",
      "metadata": {
        "id": "DQJ8rEWIOLYP",
        "colab_type": "code",
        "colab": {},
        "outputId": "73f556c3-6865-4672-ab19-463077232f5d"
      },
      "source": [
        "data.head(10)\n"
      ],
      "execution_count": null,
      "outputs": [
        {
          "output_type": "execute_result",
          "data": {
            "text/html": [
              "<div>\n",
              "<style scoped>\n",
              "    .dataframe tbody tr th:only-of-type {\n",
              "        vertical-align: middle;\n",
              "    }\n",
              "\n",
              "    .dataframe tbody tr th {\n",
              "        vertical-align: top;\n",
              "    }\n",
              "\n",
              "    .dataframe thead th {\n",
              "        text-align: right;\n",
              "    }\n",
              "</style>\n",
              "<table border=\"1\" class=\"dataframe\">\n",
              "  <thead>\n",
              "    <tr style=\"text-align: right;\">\n",
              "      <th></th>\n",
              "      <th>Sentence</th>\n",
              "      <th>Word</th>\n",
              "      <th>Tag</th>\n",
              "    </tr>\n",
              "  </thead>\n",
              "  <tbody>\n",
              "    <tr>\n",
              "      <th>0</th>\n",
              "      <td>Sentence:1</td>\n",
              "      <td>Selegiline</td>\n",
              "      <td>O</td>\n",
              "    </tr>\n",
              "    <tr>\n",
              "      <th>1</th>\n",
              "      <td>Sentence:1</td>\n",
              "      <td>-</td>\n",
              "      <td>O</td>\n",
              "    </tr>\n",
              "    <tr>\n",
              "      <th>2</th>\n",
              "      <td>Sentence:1</td>\n",
              "      <td>induced</td>\n",
              "      <td>O</td>\n",
              "    </tr>\n",
              "    <tr>\n",
              "      <th>3</th>\n",
              "      <td>Sentence:1</td>\n",
              "      <td>postural</td>\n",
              "      <td>B-Disease</td>\n",
              "    </tr>\n",
              "    <tr>\n",
              "      <th>4</th>\n",
              "      <td>Sentence:1</td>\n",
              "      <td>hypotension</td>\n",
              "      <td>E-Disease</td>\n",
              "    </tr>\n",
              "    <tr>\n",
              "      <th>5</th>\n",
              "      <td>Sentence:1</td>\n",
              "      <td>in</td>\n",
              "      <td>O</td>\n",
              "    </tr>\n",
              "    <tr>\n",
              "      <th>6</th>\n",
              "      <td>Sentence:1</td>\n",
              "      <td>Parkinson</td>\n",
              "      <td>B-Disease</td>\n",
              "    </tr>\n",
              "    <tr>\n",
              "      <th>7</th>\n",
              "      <td>Sentence:1</td>\n",
              "      <td>'</td>\n",
              "      <td>I-Disease</td>\n",
              "    </tr>\n",
              "    <tr>\n",
              "      <th>8</th>\n",
              "      <td>Sentence:1</td>\n",
              "      <td>s</td>\n",
              "      <td>I-Disease</td>\n",
              "    </tr>\n",
              "    <tr>\n",
              "      <th>9</th>\n",
              "      <td>Sentence:1</td>\n",
              "      <td>disease</td>\n",
              "      <td>E-Disease</td>\n",
              "    </tr>\n",
              "  </tbody>\n",
              "</table>\n",
              "</div>"
            ],
            "text/plain": [
              "     Sentence         Word        Tag\n",
              "0  Sentence:1   Selegiline          O\n",
              "1  Sentence:1            -          O\n",
              "2  Sentence:1      induced          O\n",
              "3  Sentence:1     postural  B-Disease\n",
              "4  Sentence:1  hypotension  E-Disease\n",
              "5  Sentence:1           in          O\n",
              "6  Sentence:1    Parkinson  B-Disease\n",
              "7  Sentence:1            '  I-Disease\n",
              "8  Sentence:1            s  I-Disease\n",
              "9  Sentence:1      disease  E-Disease"
            ]
          },
          "metadata": {
            "tags": []
          },
          "execution_count": 3
        }
      ]
    },
    {
      "cell_type": "code",
      "metadata": {
        "id": "pdyX-086OLYY",
        "colab_type": "code",
        "colab": {},
        "outputId": "325adfa2-7c33-412a-9bf1-6ffb625fed3a"
      },
      "source": [
        "words = list(set(data[\"Word\"].values))\n",
        "words.append(\"ENDPAD\")\n",
        "n_words = len(words); n_words\n"
      ],
      "execution_count": null,
      "outputs": [
        {
          "output_type": "execute_result",
          "data": {
            "text/plain": [
              "9566"
            ]
          },
          "metadata": {
            "tags": []
          },
          "execution_count": 4
        }
      ]
    },
    {
      "cell_type": "code",
      "metadata": {
        "id": "Ng350lCfOLYe",
        "colab_type": "code",
        "colab": {},
        "outputId": "8ff6fba8-01ce-48d6-f9fe-4321474ad515"
      },
      "source": [
        "tags = list(set(data[\"Tag\"].values))\n",
        "n_tags = len(tags); n_tags\n",
        "\n",
        "tags"
      ],
      "execution_count": null,
      "outputs": [
        {
          "output_type": "execute_result",
          "data": {
            "text/plain": [
              "['O', 'E-Disease', 'I-Disease', 'S-Disease', 'B-Disease']"
            ]
          },
          "metadata": {
            "tags": []
          },
          "execution_count": 5
        }
      ]
    },
    {
      "cell_type": "code",
      "metadata": {
        "id": "q_euTvJxOLYk",
        "colab_type": "code",
        "colab": {}
      },
      "source": [
        "class SentenceGetter(object):\n",
        "    \n",
        "    def __init__(self, data):\n",
        "        self.n_sent = 1\n",
        "        self.data = data\n",
        "        self.empty = False\n",
        "        agg_func = lambda s: [(w,t) for w, t in zip(s[\"Word\"].values.tolist(),\n",
        "                                                           s[\"Tag\"].values.tolist())]\n",
        "        self.grouped = self.data.groupby(\"Sentence\").apply(agg_func)\n",
        "        self.sentences = [s for s in self.grouped]\n",
        "    \n",
        "    def get_next(self):\n",
        "        try:\n",
        "            s = self.grouped[\"Sentence:{}\".format(self.n_sent)]\n",
        "            self.n_sent += 1\n",
        "            return s\n",
        "        except:\n",
        "            return None\n"
      ],
      "execution_count": null,
      "outputs": []
    },
    {
      "cell_type": "code",
      "metadata": {
        "id": "pEPgF0TIOLYn",
        "colab_type": "code",
        "colab": {}
      },
      "source": [
        "getter = SentenceGetter(data)\n"
      ],
      "execution_count": null,
      "outputs": []
    },
    {
      "cell_type": "code",
      "metadata": {
        "id": "hlkrkyeoOLYt",
        "colab_type": "code",
        "colab": {}
      },
      "source": [
        "sent = getter.get_next()\n"
      ],
      "execution_count": null,
      "outputs": []
    },
    {
      "cell_type": "code",
      "metadata": {
        "id": "E62o8lvvOLYy",
        "colab_type": "code",
        "colab": {},
        "outputId": "09a766ac-db84-4ad1-ac29-7ab66e2813a3"
      },
      "source": [
        "print(sent)\n"
      ],
      "execution_count": null,
      "outputs": [
        {
          "output_type": "stream",
          "text": [
            "[('Selegiline', 'O'), ('-', 'O'), ('induced', 'O'), ('postural', 'B-Disease'), ('hypotension', 'E-Disease'), ('in', 'O'), ('Parkinson', 'B-Disease'), (\"'\", 'I-Disease'), ('s', 'I-Disease'), ('disease', 'E-Disease'), (':', 'O'), ('a', 'O'), ('longitudinal', 'O'), ('study', 'O'), ('on', 'O'), ('the', 'O'), ('effects', 'O'), ('of', 'O'), ('drug', 'O'), ('withdrawal', 'O'), ('.', 'O'), ('.', 'O')]\n"
          ],
          "name": "stdout"
        }
      ]
    },
    {
      "cell_type": "code",
      "metadata": {
        "id": "SvoYrYYZOLY3",
        "colab_type": "code",
        "colab": {}
      },
      "source": [
        "sentences = getter.sentences\n",
        "\n"
      ],
      "execution_count": null,
      "outputs": []
    },
    {
      "cell_type": "code",
      "metadata": {
        "id": "RE9p3w_tOLY7",
        "colab_type": "code",
        "colab": {}
      },
      "source": [
        "max_len = 75\n",
        "max_len_char = 10\n",
        "\n",
        "word2idx = {w: i + 1 for i, w in enumerate(words)}\n",
        "tag2idx = {t: i for i, t in enumerate(tags)}\n"
      ],
      "execution_count": null,
      "outputs": []
    },
    {
      "cell_type": "code",
      "metadata": {
        "id": "pLFv-iwLOLY-",
        "colab_type": "code",
        "colab": {},
        "outputId": "7386a56a-8293-49af-8f4e-b80d82529dc2"
      },
      "source": [
        "from keras.preprocessing.sequence import pad_sequences\n",
        "X = [[word2idx[w[0]] for w in s] for s in sentences]\n"
      ],
      "execution_count": null,
      "outputs": [
        {
          "output_type": "stream",
          "text": [
            "Using TensorFlow backend.\n"
          ],
          "name": "stderr"
        }
      ]
    },
    {
      "cell_type": "code",
      "metadata": {
        "id": "Qxt7c2VZOLZC",
        "colab_type": "code",
        "colab": {},
        "outputId": "2ee99f23-b1ab-4b8c-cf28-06d5ef18725e"
      },
      "source": [
        "X = pad_sequences(maxlen=max_len, sequences=X, padding=\"post\", value=0)\n",
        "X"
      ],
      "execution_count": null,
      "outputs": [
        {
          "output_type": "execute_result",
          "data": {
            "text/plain": [
              "array([[3672, 4507, 1854, ...,    0,    0,    0],\n",
              "       [5273, 3440, 4074, ...,    0,    0,    0],\n",
              "       [9419, 8681, 3560, ...,    0,    0,    0],\n",
              "       ...,\n",
              "       [5073, 9165, 9298, ...,    0,    0,    0],\n",
              "       [5359, 7694, 3816, ...,    0,    0,    0],\n",
              "       [2839, 5921, 7236, ...,    0,    0,    0]])"
            ]
          },
          "metadata": {
            "tags": []
          },
          "execution_count": 13
        }
      ]
    },
    {
      "cell_type": "code",
      "metadata": {
        "id": "moHdHzpeOLZG",
        "colab_type": "code",
        "colab": {}
      },
      "source": [
        "y = [[tag2idx[w[1]] for w in s] for s in sentences]\n"
      ],
      "execution_count": null,
      "outputs": []
    },
    {
      "cell_type": "code",
      "metadata": {
        "id": "mLAph4cYOLZJ",
        "colab_type": "code",
        "colab": {}
      },
      "source": [
        "y = pad_sequences(maxlen=max_len, sequences=y, padding=\"post\", value=tag2idx[\"O\"])\n"
      ],
      "execution_count": null,
      "outputs": []
    },
    {
      "cell_type": "code",
      "metadata": {
        "id": "O1AwrqcbOLZN",
        "colab_type": "code",
        "colab": {}
      },
      "source": [
        "from keras.utils import to_categorical\n"
      ],
      "execution_count": null,
      "outputs": []
    },
    {
      "cell_type": "code",
      "metadata": {
        "id": "YPED3RlZOLZR",
        "colab_type": "code",
        "colab": {}
      },
      "source": [
        "y = [to_categorical(i, num_classes=n_tags) for i in y]\n"
      ],
      "execution_count": null,
      "outputs": []
    },
    {
      "cell_type": "code",
      "metadata": {
        "id": "OuBY5yDOOLZV",
        "colab_type": "code",
        "colab": {}
      },
      "source": [
        "from sklearn.model_selection import train_test_split\n"
      ],
      "execution_count": null,
      "outputs": []
    },
    {
      "cell_type": "code",
      "metadata": {
        "id": "Y6y7Im3IOLZc",
        "colab_type": "code",
        "colab": {}
      },
      "source": [
        "X_tr, X_te, y_tr, y_te = train_test_split(X, y, test_size=0.1)\n"
      ],
      "execution_count": null,
      "outputs": []
    },
    {
      "cell_type": "code",
      "metadata": {
        "id": "v6oEXS90OLZs",
        "colab_type": "code",
        "colab": {}
      },
      "source": [
        "from keras.models import Model, Input\n",
        "from keras.layers import LSTM, Embedding, Dense, TimeDistributed, Dropout, Bidirectional\n",
        "from keras_contrib.layers import CRF\n"
      ],
      "execution_count": null,
      "outputs": []
    },
    {
      "cell_type": "code",
      "metadata": {
        "id": "GfyhAyrtOLZv",
        "colab_type": "code",
        "colab": {}
      },
      "source": [
        "input = Input(shape=(max_len,))\n",
        "model = Embedding(input_dim=n_words + 1, output_dim=20,\n",
        "                  input_length=max_len)(input)  # 20-dim embedding\n",
        "model = Bidirectional(LSTM(units=50, return_sequences=True,\n",
        "                           recurrent_dropout=0.1))(model)  # variational biLSTM\n",
        "model = TimeDistributed(Dense(50, activation=\"relu\"))(model)  # a dense layer as suggested by neuralNer\n",
        "crf = CRF(n_tags)  # CRF layer\n",
        "out = crf(model)  # output\n"
      ],
      "execution_count": null,
      "outputs": []
    },
    {
      "cell_type": "code",
      "metadata": {
        "id": "kCGFGhUEOLZz",
        "colab_type": "code",
        "colab": {}
      },
      "source": [
        "model = Model(input, out)\n"
      ],
      "execution_count": null,
      "outputs": []
    },
    {
      "cell_type": "code",
      "metadata": {
        "id": "c6a5y3cCOLZ1",
        "colab_type": "code",
        "colab": {},
        "outputId": "f109d00a-f35a-427b-bf6c-2191071ffbec"
      },
      "source": [
        "model.compile(optimizer=\"rmsprop\", loss=crf.loss_function, metrics=[crf.accuracy])\n"
      ],
      "execution_count": null,
      "outputs": [
        {
          "output_type": "stream",
          "text": [
            "C:\\Users\\Dell\\Anaconda3\\lib\\site-packages\\keras_contrib\\layers\\crf.py:346: UserWarning: CRF.loss_function is deprecated and it might be removed in the future. Please use losses.crf_loss instead.\n",
            "  warnings.warn('CRF.loss_function is deprecated '\n",
            "C:\\Users\\Dell\\Anaconda3\\lib\\site-packages\\keras_contrib\\layers\\crf.py:353: UserWarning: CRF.accuracy is deprecated and it might be removed in the future. Please use metrics.crf_accuracy\n",
            "  warnings.warn('CRF.accuracy is deprecated and it '\n"
          ],
          "name": "stderr"
        },
        {
          "output_type": "stream",
          "text": [
            "WARNING:tensorflow:From C:\\Users\\Dell\\Anaconda3\\lib\\site-packages\\tensorflow\\python\\ops\\math_ops.py:2403: add_dispatch_support.<locals>.wrapper (from tensorflow.python.ops.array_ops) is deprecated and will be removed in a future version.\n",
            "Instructions for updating:\n",
            "Use tf.where in 2.0, which has the same broadcast rule as np.where\n"
          ],
          "name": "stdout"
        }
      ]
    },
    {
      "cell_type": "code",
      "metadata": {
        "id": "U3L_kYEfOLZ6",
        "colab_type": "code",
        "colab": {},
        "outputId": "3b143fb0-6d58-4f52-fce9-615290aa1f3c"
      },
      "source": [
        "print(X_tr.shape)\n",
        "x_train = X_tr\n",
        "y_train = y_tr\n",
        "x_train=x_train.reshape(x_train.shape[0],x_train.shape[1],1)\n",
        "#y_train=y_train.reshape(y_train.shape[0],y_train.shape[1],1)\n",
        "print(x_train.shape) #y_train.shape)\n",
        "\n",
        "history = model.fit(X_tr, np.array(y_tr), batch_size=32, epochs=5,validation_split=0.1, verbose=1)\n",
        "\n"
      ],
      "execution_count": null,
      "outputs": [
        {
          "output_type": "stream",
          "text": [
            "(3831, 75)\n",
            "(3831, 75, 1)\n",
            "WARNING:tensorflow:From C:\\Users\\Dell\\Anaconda3\\lib\\site-packages\\keras\\backend\\tensorflow_backend.py:422: The name tf.global_variables is deprecated. Please use tf.compat.v1.global_variables instead.\n",
            "\n",
            "Train on 3447 samples, validate on 384 samples\n",
            "Epoch 1/5\n",
            "3447/3447 [==============================] - 18s 5ms/step - loss: 0.1699 - crf_viterbi_accuracy: 0.9682 - val_loss: 0.1065 - val_crf_viterbi_accuracy: 0.9799\n",
            "Epoch 2/5\n",
            "3447/3447 [==============================] - 14s 4ms/step - loss: 0.0882 - crf_viterbi_accuracy: 0.9799 - val_loss: 0.0737 - val_crf_viterbi_accuracy: 0.9823\n",
            "Epoch 3/5\n",
            "3447/3447 [==============================] - 14s 4ms/step - loss: 0.0578 - crf_viterbi_accuracy: 0.9839 - val_loss: 0.0557 - val_crf_viterbi_accuracy: 0.9864\n",
            "Epoch 4/5\n",
            "3447/3447 [==============================] - 14s 4ms/step - loss: 0.0422 - crf_viterbi_accuracy: 0.9882 - val_loss: 0.0475 - val_crf_viterbi_accuracy: 0.9883\n",
            "Epoch 5/5\n",
            "3447/3447 [==============================] - 13s 4ms/step - loss: 0.0319 - crf_viterbi_accuracy: 0.9907 - val_loss: 0.0407 - val_crf_viterbi_accuracy: 0.9903\n"
          ],
          "name": "stdout"
        }
      ]
    },
    {
      "cell_type": "code",
      "metadata": {
        "id": "DTNzSO8bOLZ-",
        "colab_type": "code",
        "colab": {}
      },
      "source": [
        "hist = pd.DataFrame(history.history)\n"
      ],
      "execution_count": null,
      "outputs": []
    },
    {
      "cell_type": "code",
      "metadata": {
        "id": "Nd72-fyJOLaC",
        "colab_type": "code",
        "colab": {}
      },
      "source": [
        "from seqeval.metrics import precision_score, recall_score, f1_score, classification_report"
      ],
      "execution_count": null,
      "outputs": []
    },
    {
      "cell_type": "code",
      "metadata": {
        "id": "qjdrJOE6OLaH",
        "colab_type": "code",
        "colab": {},
        "outputId": "6880a474-3a3d-4cd4-9568-86261d20809c"
      },
      "source": [
        "test_pred = model.predict(X_te, verbose=1)\n",
        "\n"
      ],
      "execution_count": null,
      "outputs": [
        {
          "output_type": "stream",
          "text": [
            "426/426 [==============================] - 1s 2ms/step\n"
          ],
          "name": "stdout"
        }
      ]
    },
    {
      "cell_type": "code",
      "metadata": {
        "id": "5LDwcT1IOLaL",
        "colab_type": "code",
        "colab": {}
      },
      "source": [
        "idx2tag = {i: w for w, i in tag2idx.items()}\n",
        "\n",
        "def pred2label(pred):\n",
        "    out = []\n",
        "    for pred_i in pred:\n",
        "        out_i = []\n",
        "        for p in pred_i:\n",
        "            p_i = np.argmax(p)\n",
        "            out_i.append(idx2tag[p_i].replace(\"PAD\", \"O\"))\n",
        "        out.append(out_i)\n",
        "    return out\n",
        "    \n",
        "pred_labels = pred2label(test_pred)\n",
        "test_labels = pred2label(y_te)"
      ],
      "execution_count": null,
      "outputs": []
    },
    {
      "cell_type": "code",
      "metadata": {
        "id": "cRlaSjYeOLaO",
        "colab_type": "code",
        "colab": {},
        "outputId": "5f2effe0-e9f0-4d7c-a808-ca4524ff45a8"
      },
      "source": [
        "print(\"F1-score: {:.1%}\".format(f1_score(test_labels, pred_labels)))\n"
      ],
      "execution_count": null,
      "outputs": [
        {
          "output_type": "stream",
          "text": [
            "F1-score: 65.4%\n"
          ],
          "name": "stdout"
        }
      ]
    },
    {
      "cell_type": "code",
      "metadata": {
        "id": "poK6_iNaOLaR",
        "colab_type": "code",
        "colab": {},
        "outputId": "31e158fd-ccc2-4d74-e2b6-63557ada8a9b"
      },
      "source": [
        "print(classification_report(test_labels, pred_labels))\n"
      ],
      "execution_count": null,
      "outputs": [
        {
          "output_type": "stream",
          "text": [
            "           precision    recall  f1-score   support\n",
            "\n",
            "  Disease       0.68      0.63      0.65       395\n",
            "\n",
            "micro avg       0.68      0.63      0.65       395\n",
            "macro avg       0.68      0.63      0.65       395\n",
            "\n"
          ],
          "name": "stdout"
        }
      ]
    },
    {
      "cell_type": "code",
      "metadata": {
        "id": "DT9whIkaOLaU",
        "colab_type": "code",
        "colab": {},
        "outputId": "15488470-15c2-4f3c-f6f1-faaec4e37a9d"
      },
      "source": [
        "i = 2345\n",
        "p = model.predict(np.array([X_tr[i]]))\n",
        "p = np.argmax(p, axis=-1)\n",
        "true = np.argmax(y_tr[i], -1)\n",
        "print(\"{:15}||{:5}||{}\".format(\"Word\", \"True\", \"Pred\"))\n",
        "print(30 * \"=\")\n",
        "for w, t, pred in zip(X_tr[i], true, p[0]):\n",
        "    if w != 0:\n",
        "        print(\"{:25}: {:5} {}\".format(words[w-1], tags[t], tags[pred]))\n"
      ],
      "execution_count": null,
      "outputs": [
        {
          "output_type": "stream",
          "text": [
            "Word           ||True ||Pred\n",
            "==============================\n",
            "Doxorubicin              : O     O\n",
            "is                       : O     O\n",
            "an                       : O     O\n",
            "effective                : O     O\n",
            "anticancer               : O     O\n",
            "chemotherapeutic         : O     O\n",
            "agent                    : O     O\n",
            "known                    : O     O\n",
            "to                       : O     O\n",
            "cause                    : O     O\n",
            "acute                    : O     O\n",
            "and                      : O     O\n",
            "chronic                  : O     B-Disease\n",
            "cardiomyopathy           : S-Disease E-Disease\n",
            ".                        : O     O\n",
            ".                        : O     O\n"
          ],
          "name": "stdout"
        }
      ]
    },
    {
      "cell_type": "code",
      "metadata": {
        "id": "tkDa8pF8OLaY",
        "colab_type": "code",
        "colab": {}
      },
      "source": [
        ""
      ],
      "execution_count": null,
      "outputs": []
    }
  ]
}